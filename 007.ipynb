{
 "cells": [
  {
   "cell_type": "code",
   "execution_count": 2,
   "metadata": {},
   "outputs": [
    {
     "name": "stdout",
     "output_type": "stream",
     "text": [
      "12\n",
      "Hello world!\n",
      "HELLO WORLD!\n",
      "7\n",
      "-1\n",
      "False\n",
      "True\n",
      "True\n",
      "*******************hello world!*******************\n",
      "                                      hello world!\n",
      "c\n",
      "c12\n",
      "c123456\n",
      "c246\n",
      "654321cba\n",
      "45\n",
      "False\n",
      "False\n",
      "True\n",
      "  jackfrued@126.com \n",
      "jackfrued@126.com\n"
     ]
    }
   ],
   "source": [
    "def main():\n",
    "    str1 = 'hello world!'\n",
    "    print(len(str1))\n",
    "    print(str1.capitalize())\n",
    "    print(str1.upper())\n",
    "    print(str1.find('or'))\n",
    "    print(str1.find('jkl'))\n",
    "    print(str1.startswith('He'))\n",
    "    print(str1.startswith('hel'))\n",
    "    print(str1.endswith('!'))\n",
    "    print(str1.center(50, '*'))\n",
    "    print(str1.rjust(50, ' '))\n",
    "    str2 = 'abc123456'\n",
    "    print(str2[2])\n",
    "    print(str2[2:5])\n",
    "    print(str2[2:])\n",
    "    print(str2[2::2])\n",
    "    print(str2[::-1])\n",
    "    print(str2[-3:-1])\n",
    "    print(str2.isdigit())\n",
    "    print(str2.isalpha())\n",
    "    print(str2.isalnum())\n",
    "    str3 = '  jackfrued@126.com '\n",
    "    print(str3)\n",
    "    print(str3.strip())\n",
    "    \n",
    "if __name__ == '__main__':\n",
    "    main()"
   ]
  },
  {
   "cell_type": "code",
   "execution_count": 4,
   "metadata": {},
   "outputs": [
    {
     "name": "stdout",
     "output_type": "stream",
     "text": [
      "[1, 3, 5, 7, 100]\n",
      "['hello', 'hello', 'hello', 'hello', 'hello']\n",
      "5\n",
      "1\n",
      "100\n",
      "100\n",
      "5\n",
      "[1, 3, 300, 7, 100]\n",
      "[1, 400, 3, 300, 7, 100, 200]\n",
      "[1, 400, 3, 300, 7, 100, 200, 1000, 2000]\n",
      "9\n",
      "[400, 300, 7, 100, 200, 1000, 2000]\n",
      "[]\n"
     ]
    }
   ],
   "source": [
    "def main():\n",
    "    list1 = [1, 3, 5, 7, 100]\n",
    "    print(list1)\n",
    "    list2 = ['hello'] * 5\n",
    "    print(list2)\n",
    "    print(len(list1))\n",
    "    print(list1[0])\n",
    "    print(list1[4])\n",
    "    print(list1[-1])\n",
    "    print(list1[-3])\n",
    "    list1[2] = 300\n",
    "    print(list1)\n",
    "    list1.append(200)\n",
    "    list1.insert(1, 400)\n",
    "    print(list1)\n",
    "    list1 += [1000, 2000]\n",
    "    print(list1)\n",
    "    print(len(list1))\n",
    "    list1.remove(3)\n",
    "    if 1234 in list1:\n",
    "        list1.remove(1234)\n",
    "    del list1[0]\n",
    "    print(list1)\n",
    "    list1.clear()\n",
    "    print(list1)\n",
    "    \n",
    "if __name__ == '__main__':\n",
    "    main()  "
   ]
  },
  {
   "cell_type": "code",
   "execution_count": 20,
   "metadata": {},
   "outputs": [
    {
     "name": "stdout",
     "output_type": "stream",
     "text": [
      "['dog', 'cat', 'lion', 'tiger', 'aligater', 'giraffe', 'snake']\n",
      "Dog Cat Lion Tiger Aligater Giraffe Snake \n",
      "['lion', 'tiger', 'aligater']\n",
      "True\n",
      "['dog', 'snail', 'lion', 'tiger', 'aligater', 'giraffe', 'snake']\n",
      "['dog', 'snail', 'lion', 'tiger', 'aligater', 'giraffe', 'snake']\n",
      "False\n",
      "['dog', 'snail', 'lion', 'tiger', 'aligater', 'giraffe', 'snake']\n",
      "['crab']\n",
      "['snake', 'aligater', 'crab', 'dog']\n"
     ]
    }
   ],
   "source": [
    "def main():\n",
    "    animals = ['dog', 'cat', 'lion', 'tiger']\n",
    "    animals += ['aligater', 'giraffe', 'snake']\n",
    "    print(animals)\n",
    "    for animal in animals:\n",
    "        print(animal.title(), end = ' ')\n",
    "    print()\n",
    "    animals2 = animals[2:5]\n",
    "    print(animals2)\n",
    "    animals3 = animals\n",
    "    print(animals3 is animals)\n",
    "    animals[1] = 'snail'\n",
    "    print(animals3)\n",
    "    animals4 = animals[:]\n",
    "    print(animals4)\n",
    "    print(animals4 is animals)\n",
    "    animals[2] = 'crab'\n",
    "    print(animals4)\n",
    "    animals5 = animals[-5:-4]\n",
    "    print(animals5)\n",
    "    animals6 = animals[::-2]\n",
    "    print(animals6)\n",
    "        \n",
    "if __name__ == '__main__':\n",
    "    main()"
   ]
  },
  {
   "cell_type": "code",
   "execution_count": 37,
   "metadata": {},
   "outputs": [
    {
     "name": "stdout",
     "output_type": "stream",
     "text": [
      "['orange', 'apple', 'zoo', 'internationalization', 'blueberry', 'dog']\n",
      "['apple', 'blueberry', 'dog', 'internationalization', 'orange', 'zoo']\n",
      "['zoo', 'orange', 'internationalization', 'dog', 'blueberry', 'apple']\n",
      "['zoo', 'dog', 'apple', 'orange', 'blueberry', 'internationalization']\n",
      "['zoo', 'orange', 'internationalization', 'dog', 'blueberry', 'apple']\n"
     ]
    }
   ],
   "source": [
    "def main():\n",
    "    list1 = ['orange', 'apple', 'zoo', 'internationalization', 'blueberry', 'dog']\n",
    "    list2 = sorted(list1)\n",
    "    list3 = sorted(list1, reverse=True)\n",
    "    list4 = sorted(list1, key = len)\n",
    "    print(list1)\n",
    "    print(list2)\n",
    "    print(list3)\n",
    "    print(list4)\n",
    "    \n",
    "    list1.sort(reverse=True)\n",
    "    print(list1)\n",
    "if __name__ == '__main__':\n",
    "    main()"
   ]
  },
  {
   "cell_type": "code",
   "execution_count": null,
   "metadata": {},
   "outputs": [],
   "source": [
    "import sys\n",
    "\n",
    "def main():\n",
    "    f = [x for x in range(1, 10)]\n",
    "    print(f)\n",
    "    f = [x + y for x in 'ABCDE' for y in '12345678']\n",
    "    print(f)\n",
    "    f = [x ** 2 for x in range(1, 1000)]\n",
    "    print(sys.getsizeof(f))\n",
    "    print(f)\n",
    "    f = (x ** 2 for x in range(1,1000))\n",
    "    print(sys.getsizeof(f))\n",
    "    print(f)\n",
    "    for val in f:\n",
    "        print(val)\n",
    "        \n",
    "if __name__ == '__main__':\n",
    "    main()"
   ]
  },
  {
   "cell_type": "code",
   "execution_count": 74,
   "metadata": {},
   "outputs": [
    {
     "name": "stdout",
     "output_type": "stream",
     "text": [
      "1\n",
      "1\n",
      "2\n",
      "3\n",
      "5\n",
      "8\n",
      "13\n",
      "21\n",
      "34\n",
      "55\n",
      "89\n",
      "144\n",
      "233\n",
      "377\n",
      "610\n",
      "987\n",
      "1597\n",
      "2584\n",
      "4181\n",
      "6765\n"
     ]
    }
   ],
   "source": [
    "def fib(n):\n",
    "    a, b = 0, 1\n",
    "    for _ in range(n):\n",
    "        a, b = b, a + b\n",
    "        yield a\n",
    "        \n",
    "def main():\n",
    "    for val in fib(20):\n",
    "        print(val)\n",
    "        \n",
    "if __name__ == '__main__':\n",
    "    main()"
   ]
  },
  {
   "cell_type": "code",
   "execution_count": 47,
   "metadata": {},
   "outputs": [],
   "source": [
    "def test():\n",
    "    for x in range(10):\n",
    "        print('Before yield')\n",
    "        yield x\n",
    "        print('After yield')\n",
    "        \n",
    "x = test()"
   ]
  },
  {
   "cell_type": "code",
   "execution_count": 48,
   "metadata": {},
   "outputs": [
    {
     "name": "stdout",
     "output_type": "stream",
     "text": [
      "Before yield\n",
      "0\n"
     ]
    }
   ],
   "source": [
    "temp = x.__next__()\n",
    "print(temp)"
   ]
  },
  {
   "cell_type": "code",
   "execution_count": 49,
   "metadata": {},
   "outputs": [
    {
     "name": "stdout",
     "output_type": "stream",
     "text": [
      "After yield\n",
      "Before yield\n",
      "1\n"
     ]
    }
   ],
   "source": [
    "temp = x.__next__()\n",
    "print(temp)"
   ]
  },
  {
   "cell_type": "code",
   "execution_count": 51,
   "metadata": {},
   "outputs": [
    {
     "name": "stdout",
     "output_type": "stream",
     "text": [
      "After yield\n",
      "Before yield\n",
      "3\n"
     ]
    }
   ],
   "source": [
    "temp = x.__next__()\n",
    "print(temp)"
   ]
  },
  {
   "cell_type": "code",
   "execution_count": 55,
   "metadata": {},
   "outputs": [
    {
     "name": "stdout",
     "output_type": "stream",
     "text": [
      "[1, 1, 2, 3, 5, 8, 13, 21, 34, 55]\n"
     ]
    }
   ],
   "source": [
    "def fab(max): \n",
    "   n, a, b = 0, 0, 1 \n",
    "   L = [] \n",
    "   while n < max: \n",
    "       L.append(b) \n",
    "       a, b = b, a + b \n",
    "       n = n + 1 \n",
    "   return L\n",
    "    \n",
    "x = fab(10)\n",
    "print(x)"
   ]
  },
  {
   "cell_type": "code",
   "execution_count": 58,
   "metadata": {},
   "outputs": [
    {
     "name": "stdout",
     "output_type": "stream",
     "text": [
      "0\n",
      "1\n",
      "2\n",
      "3\n",
      "4\n",
      "5\n",
      "6\n",
      "7\n",
      "8\n",
      "9\n"
     ]
    }
   ],
   "source": [
    "for i in range(100000000):\n",
    "    if(i<10):\n",
    "        print(i)"
   ]
  },
  {
   "cell_type": "code",
   "execution_count": 2,
   "metadata": {},
   "outputs": [
    {
     "ename": "AttributeError",
     "evalue": "'range_iterator' object has no attribute 'next'",
     "output_type": "error",
     "traceback": [
      "\u001b[0;31m---------------------------------------------------------------------------\u001b[0m",
      "\u001b[0;31mAttributeError\u001b[0m                            Traceback (most recent call last)",
      "\u001b[0;32m<ipython-input-2-03a67ccf3865>\u001b[0m in \u001b[0;36m<module>\u001b[0;34m\u001b[0m\n\u001b[1;32m      1\u001b[0m \u001b[0mx\u001b[0m \u001b[0;34m=\u001b[0m \u001b[0mrange\u001b[0m\u001b[0;34m(\u001b[0m\u001b[0;36m100000000\u001b[0m\u001b[0;34m)\u001b[0m\u001b[0;34m\u001b[0m\u001b[0;34m\u001b[0m\u001b[0m\n\u001b[0;32m----> 2\u001b[0;31m \u001b[0mprint\u001b[0m\u001b[0;34m(\u001b[0m\u001b[0mx\u001b[0m\u001b[0;34m.\u001b[0m\u001b[0m__iter__\u001b[0m\u001b[0;34m(\u001b[0m\u001b[0;34m)\u001b[0m\u001b[0;34m.\u001b[0m\u001b[0mnext\u001b[0m\u001b[0;34m(\u001b[0m\u001b[0;34m)\u001b[0m\u001b[0;34m)\u001b[0m\u001b[0;34m\u001b[0m\u001b[0;34m\u001b[0m\u001b[0m\n\u001b[0m",
      "\u001b[0;31mAttributeError\u001b[0m: 'range_iterator' object has no attribute 'next'"
     ]
    }
   ],
   "source": [
    "x = range(100000000)\n",
    "print(x.__iter__().next())"
   ]
  },
  {
   "cell_type": "code",
   "execution_count": 3,
   "metadata": {},
   "outputs": [
    {
     "name": "stdout",
     "output_type": "stream",
     "text": [
      "('狗狗', 2, True, '北京朝阳')\n",
      "狗狗\n",
      "北京朝阳\n",
      "狗狗\n",
      "2\n",
      "True\n",
      "北京朝阳\n",
      "('猫', 3, False, '湖南')\n",
      "['猫', 3, False, '湖南']\n",
      "['老虎', 10, False, '湖南']\n",
      "('老虎', 10, False, '湖南')\n"
     ]
    }
   ],
   "source": [
    "def main():\n",
    "    t = ('狗狗', 2, True, '北京朝阳')\n",
    "    print(t)\n",
    "    print(t[0])\n",
    "    print(t[3])\n",
    "    for member in t:\n",
    "        print(member)\n",
    "#     t[0] = 'cat'\n",
    "    t = ('猫', 3, False, '湖南')\n",
    "    print(t)\n",
    "    animal = list(t)\n",
    "    print(animal)\n",
    "    animal[0] = '老虎'\n",
    "    animal[1] = 10\n",
    "    print(animal)\n",
    "    animal_tuple = tuple(animal)\n",
    "    print(animal_tuple)\n",
    "    \n",
    "if __name__ == '__main__':\n",
    "    main()"
   ]
  },
  {
   "cell_type": "code",
   "execution_count": 23,
   "metadata": {},
   "outputs": [
    {
     "name": "stdout",
     "output_type": "stream",
     "text": [
      "{1, 2, 3}\n",
      "length =  3\n",
      "{1, 2, 3, 4, 5, 6, 7, 8, 9}\n",
      "{1, 2, 3, 4, 5}\n",
      "{1, 2, 3, 4, 5, 6, 7, 8, 9, 11, 12}\n",
      "{1, 2, 3, 4, 6, 7, 8, 9, 11, 12}\n",
      "{1, 2, 3, 6, 7, 8, 9, 11, 12}\n",
      "1\n",
      "{2, 3}\n",
      "{1, 2, 3}\n",
      "{1, 2, 3, 4, 5, 6, 7, 8, 9, 11, 12}\n",
      "{4, 5}\n",
      "{4, 5, 6, 7, 8, 9, 11, 12}\n",
      "False\n",
      "True\n",
      "False\n",
      "True\n"
     ]
    }
   ],
   "source": [
    "set1 = {1, 2, 3, 3, 3, 2}\n",
    "print(set1)\n",
    "print('length = ', len(set1))\n",
    "set2 = set(range(1, 10))\n",
    "print(set2)\n",
    "set1.add(4)\n",
    "set1.add(5)\n",
    "set2.update([11, 12])\n",
    "print(set1)\n",
    "print(set2)\n",
    "set2.discard(5)\n",
    "print(set2)\n",
    "if 4 in set2:\n",
    "    set2.remove(4)\n",
    "print(set2)\n",
    "set3 = set((1,2,3,3,2,1))\n",
    "print(set3.pop())\n",
    "print(set3)\n",
    "print(set1 & set2)\n",
    "print(set1 | set2)\n",
    "print(set1 - set2)\n",
    "print(set1 ^ set2)\n",
    "print(set1 <= set2)\n",
    "print(set3 <= set1)\n",
    "print(set1 >= set2)\n",
    "print(set1 >= set3)"
   ]
  },
  {
   "cell_type": "code",
   "execution_count": 35,
   "metadata": {},
   "outputs": [
    {
     "name": "stdout",
     "output_type": "stream",
     "text": [
      "99\n",
      "cici\t--->\t99\n",
      "eva\t--->\t98\n",
      "sophia\t--->\t97\n",
      "{'cici': 99, 'eva': 87, 'sophia': 70, 'april': 90, 'summer': 100}\n",
      "None\n",
      "60\n",
      "{'cici': 99, 'eva': 87, 'sophia': 70, 'april': 90, 'summer': 100}\n",
      "('summer', 100)\n",
      "90\n",
      "{'cici': 99, 'eva': 87, 'sophia': 70}\n",
      "{}\n"
     ]
    }
   ],
   "source": [
    "scores = {'cici': 99, 'eva': 98, 'sophia': 97}\n",
    "print(scores['cici'])\n",
    "for elem in scores:\n",
    "    print('%s\\t--->\\t%d' % (elem, scores[elem]))\n",
    "scores['eva'] = 87\n",
    "scores['april'] = 90\n",
    "scores.update(summer=100, sophia=70)\n",
    "print(scores)\n",
    "if 'fibers' in scores:\n",
    "    print(scores['fibers'])\n",
    "print(scores.get('fibers'))\n",
    "print(scores.get('fibers', 60))\n",
    "print(scores)\n",
    "print(scores.popitem())\n",
    "print(scores.pop('april', 90))\n",
    "print(scores)\n",
    "scores.clear()\n",
    "print(scores)"
   ]
  },
  {
   "cell_type": "code",
   "execution_count": 36,
   "metadata": {},
   "outputs": [
    {
     "name": "stdout",
     "output_type": "stream",
     "text": [
      "北京欢迎你为你开天辟地…………\n",
      "京欢迎你为你开天辟地…………北\n",
      "欢迎你为你开天辟地…………北京\n",
      "迎你为你开天辟地…………北京欢\n",
      "你为你开天辟地…………北京欢迎\n",
      "为你开天辟地…………北京欢迎你\n",
      "你开天辟地…………北京欢迎你为\n",
      "开天辟地…………北京欢迎你为你\n",
      "天辟地…………北京欢迎你为你开\n",
      "辟地…………北京欢迎你为你开天\n",
      "地…………北京欢迎你为你开天辟\n",
      "…………北京欢迎你为你开天辟地\n",
      "………北京欢迎你为你开天辟地…\n",
      "……北京欢迎你为你开天辟地……\n",
      "…北京欢迎你为你开天辟地………\n",
      "北京欢迎你为你开天辟地…………\n",
      "京欢迎你为你开天辟地…………北\n",
      "欢迎你为你开天辟地…………北京\n",
      "迎你为你开天辟地…………北京欢\n",
      "你为你开天辟地…………北京欢迎\n",
      "为你开天辟地…………北京欢迎你\n",
      "你开天辟地…………北京欢迎你为\n",
      "开天辟地…………北京欢迎你为你\n",
      "天辟地…………北京欢迎你为你开\n",
      "辟地…………北京欢迎你为你开天\n",
      "地…………北京欢迎你为你开天辟\n",
      "…………北京欢迎你为你开天辟地\n",
      "………北京欢迎你为你开天辟地…\n",
      "……北京欢迎你为你开天辟地……\n",
      "…北京欢迎你为你开天辟地………\n"
     ]
    },
    {
     "ename": "KeyboardInterrupt",
     "evalue": "",
     "output_type": "error",
     "traceback": [
      "\u001b[0;31m---------------------------------------------------------------------------\u001b[0m",
      "\u001b[0;31mKeyboardInterrupt\u001b[0m                         Traceback (most recent call last)",
      "\u001b[0;32m<ipython-input-36-90f1699ef114>\u001b[0m in \u001b[0;36m<module>\u001b[0;34m\u001b[0m\n\u001b[1;32m     11\u001b[0m \u001b[0;34m\u001b[0m\u001b[0m\n\u001b[1;32m     12\u001b[0m \u001b[0;32mif\u001b[0m \u001b[0m__name__\u001b[0m \u001b[0;34m==\u001b[0m \u001b[0;34m'__main__'\u001b[0m\u001b[0;34m:\u001b[0m\u001b[0;34m\u001b[0m\u001b[0;34m\u001b[0m\u001b[0m\n\u001b[0;32m---> 13\u001b[0;31m     \u001b[0mmain\u001b[0m\u001b[0;34m(\u001b[0m\u001b[0;34m)\u001b[0m\u001b[0;34m\u001b[0m\u001b[0;34m\u001b[0m\u001b[0m\n\u001b[0m",
      "\u001b[0;32m<ipython-input-36-90f1699ef114>\u001b[0m in \u001b[0;36mmain\u001b[0;34m()\u001b[0m\n\u001b[1;32m      7\u001b[0m         \u001b[0mos\u001b[0m\u001b[0;34m.\u001b[0m\u001b[0msystem\u001b[0m\u001b[0;34m(\u001b[0m\u001b[0;34m'cls'\u001b[0m\u001b[0;34m)\u001b[0m\u001b[0;34m\u001b[0m\u001b[0;34m\u001b[0m\u001b[0m\n\u001b[1;32m      8\u001b[0m         \u001b[0mprint\u001b[0m\u001b[0;34m(\u001b[0m\u001b[0mcontent\u001b[0m\u001b[0;34m)\u001b[0m\u001b[0;34m\u001b[0m\u001b[0;34m\u001b[0m\u001b[0m\n\u001b[0;32m----> 9\u001b[0;31m         \u001b[0mtime\u001b[0m\u001b[0;34m.\u001b[0m\u001b[0msleep\u001b[0m\u001b[0;34m(\u001b[0m\u001b[0;36m0.2\u001b[0m\u001b[0;34m)\u001b[0m\u001b[0;34m\u001b[0m\u001b[0;34m\u001b[0m\u001b[0m\n\u001b[0m\u001b[1;32m     10\u001b[0m         \u001b[0mcontent\u001b[0m \u001b[0;34m=\u001b[0m \u001b[0mcontent\u001b[0m\u001b[0;34m[\u001b[0m\u001b[0;36m1\u001b[0m\u001b[0;34m:\u001b[0m\u001b[0;34m]\u001b[0m \u001b[0;34m+\u001b[0m \u001b[0mcontent\u001b[0m\u001b[0;34m[\u001b[0m\u001b[0;36m0\u001b[0m\u001b[0;34m]\u001b[0m\u001b[0;34m\u001b[0m\u001b[0;34m\u001b[0m\u001b[0m\n\u001b[1;32m     11\u001b[0m \u001b[0;34m\u001b[0m\u001b[0m\n",
      "\u001b[0;31mKeyboardInterrupt\u001b[0m: "
     ]
    }
   ],
   "source": [
    "import os\n",
    "import time\n",
    "\n",
    "def main():\n",
    "    content = '北京欢迎你为你开天辟地…………'\n",
    "    while True:\n",
    "        os.system('cls')\n",
    "        print(content)\n",
    "        time.sleep(0.2)\n",
    "        content = content[1:] + content[0]\n",
    "        \n",
    "if __name__ == '__main__':\n",
    "    main()"
   ]
  },
  {
   "cell_type": "code",
   "execution_count": 48,
   "metadata": {},
   "outputs": [
    {
     "name": "stdout",
     "output_type": "stream",
     "text": [
      "xDD8n\n"
     ]
    }
   ],
   "source": [
    "import random\n",
    "def generate_code(code_len = 4):\n",
    "    all_chars = '0123456789abcdefghijklmnopqrstuvwxyzABCDEFGHIJKLMNOPQRSTUVWXYZ'\n",
    "    last_pos = len(all_chars) - 1\n",
    "    code = ''\n",
    "    for _ in range(code_len):\n",
    "        index = random.randint(0, last_pos)\n",
    "        code += all_chars[index]\n",
    "    return code\n",
    "\n",
    "print(generate_code(code_len = 5))"
   ]
  },
  {
   "cell_type": "code",
   "execution_count": 49,
   "metadata": {},
   "outputs": [
    {
     "name": "stdout",
     "output_type": "stream",
     "text": [
      "a\n"
     ]
    }
   ],
   "source": [
    "if True:\n",
    "    print(\"a\")\n",
    "else:\n",
    "    print(\"b\")"
   ]
  },
  {
   "cell_type": "code",
   "execution_count": 68,
   "metadata": {},
   "outputs": [
    {
     "name": "stdout",
     "output_type": "stream",
     "text": [
      ".k\n"
     ]
    }
   ],
   "source": [
    "def get_suffix(filename, has_dot = False):\n",
    "    pos = filename.rfind(\".\")\n",
    "    if 0 < pos < len(filename) - 1:\n",
    "        index = pos if has_dot else pos + 1\n",
    "        return filename[index:]\n",
    "    else:\n",
    "        return ''\n",
    "\n",
    "suffix = get_suffix(\"a.j.k\",True)\n",
    "print(suffix)"
   ]
  },
  {
   "cell_type": "code",
   "execution_count": 91,
   "metadata": {},
   "outputs": [
    {
     "name": "stdout",
     "output_type": "stream",
     "text": [
      "(200, 100)\n"
     ]
    }
   ],
   "source": [
    "def max2(x):\n",
    "    m1, m2 = (x[0], x[1]) if x[0] > x[1] else (x[1], x[0])\n",
    "    for index in range(2, len(x)):\n",
    "        if x[index] > m1:\n",
    "            m2 = m1\n",
    "            m1 = x[index]\n",
    "        elif x[index] > m2:\n",
    "            m2 = x[index]\n",
    "    return(m1, m2)\n",
    "max = max2([4,200,100])\n",
    "print(max)"
   ]
  },
  {
   "cell_type": "code",
   "execution_count": 100,
   "metadata": {},
   "outputs": [
    {
     "name": "stdout",
     "output_type": "stream",
     "text": [
      "366\n"
     ]
    }
   ],
   "source": [
    "def is_leap_year(year):\n",
    "    return year % 4 == 0 and year / 100 != 0 or year % 400 ==0\n",
    "\n",
    "def which_day(year, month, day):\n",
    "    days_of_mon = [\n",
    "        [31, 28, 31, 30, 31, 30, 31, 31, 30, 31, 30, 31],\n",
    "        [31, 29, 31, 30, 31, 30, 31, 31, 30, 31, 30, 31]\n",
    "    ][is_leap_year(year)]\n",
    "    total = 0\n",
    "    for index in range(month - 1):\n",
    "        total += days_of_mon[index]\n",
    "    return total + day\n",
    "\n",
    "def main():\n",
    "    print(which_day(2100, 12, 31))\n",
    "    \n",
    "if __name__ == '__main__':\n",
    "    main()"
   ]
  },
  {
   "cell_type": "code",
   "execution_count": 107,
   "metadata": {},
   "outputs": [
    {
     "name": "stdout",
     "output_type": "stream",
     "text": [
      "row num: 10\n",
      "1\t\n",
      "1\t1\t\n",
      "1\t2\t1\t\n",
      "1\t3\t3\t1\t\n",
      "1\t4\t6\t4\t1\t\n",
      "1\t5\t10\t10\t5\t1\t\n",
      "1\t6\t15\t20\t15\t6\t1\t\n",
      "1\t7\t21\t35\t35\t21\t7\t1\t\n",
      "1\t8\t28\t56\t70\t56\t28\t8\t1\t\n",
      "1\t9\t36\t84\t126\t126\t84\t36\t9\t1\t\n"
     ]
    }
   ],
   "source": [
    "def main():\n",
    "    num = int(input('row num: '))\n",
    "    yh =[[]] * num\n",
    "    for row in range(len(yh)):\n",
    "        yh[row] = [None] * (row + 1)\n",
    "        for col in range(len(yh[row])):\n",
    "            if col == 0 or col == row:\n",
    "                yh[row][col] = 1\n",
    "            else:\n",
    "                yh[row][col] = yh[row - 1][col] + yh[row - 1][col - 1]\n",
    "            print(yh[row][col], end = '\\t')\n",
    "        print()\n",
    "if __name__ == '__main__':\n",
    "    main()"
   ]
  },
  {
   "cell_type": "code",
   "execution_count": 112,
   "metadata": {},
   "outputs": [
    {
     "name": "stdout",
     "output_type": "stream",
     "text": [
      "how many: 10\n",
      "07 13 17 22 27 29 | 06 \n",
      "06 08 11 19 21 30 | 15 \n",
      "03 14 20 22 25 27 | 14 \n",
      "01 03 09 14 15 17 | 04 \n",
      "09 10 13 18 19 20 | 01 \n",
      "04 05 07 08 15 18 | 15 \n",
      "06 10 11 18 21 24 | 16 \n",
      "04 12 19 22 26 32 | 13 \n",
      "01 04 19 24 25 30 | 13 \n",
      "06 09 15 18 31 32 | 15 \n"
     ]
    }
   ],
   "source": [
    "from random import randrange, randint, sample\n",
    "\n",
    "def display(balls):\n",
    "    for index, ball in enumerate(balls):\n",
    "        if index == len(balls)-1:\n",
    "            print('|', end = ' ')\n",
    "        print('%02d' % ball, end = ' ')\n",
    "    print()\n",
    "    \n",
    "def random_select():\n",
    "    red_balls = [x for x in range(1, 34)]\n",
    "    selected_balls = []\n",
    "    selected_balls = sample(red_balls, 6)\n",
    "    selected_balls.sort()\n",
    "    selected_balls.append(randint(1, 16))\n",
    "#     print(selected_balls)\n",
    "    return selected_balls\n",
    "\n",
    "def main():\n",
    "    n = int(input('how many: '))\n",
    "    for _ in range(n):\n",
    "        display(random_select())\n",
    "        \n",
    "if __name__ == '__main__':\n",
    "    main()    "
   ]
  },
  {
   "cell_type": "code",
   "execution_count": 115,
   "metadata": {},
   "outputs": [
    {
     "name": "stdout",
     "output_type": "stream",
     "text": [
      "YYYYNNNNNYYNYYYNYNNYYNNNYNNYYN"
     ]
    }
   ],
   "source": [
    "def main():\n",
    "    persons = [True] * 30\n",
    "    counter, index, number = 0, 0, 0\n",
    "    while counter < 15:\n",
    "        if persons[index]:\n",
    "            number += 1\n",
    "            if number == 9:\n",
    "                persons[index] = False\n",
    "                counter += 1\n",
    "                number = 0\n",
    "        index += 1\n",
    "        index %= 30\n",
    "    for person in persons:\n",
    "        print('Y' if person else 'N', end = '')\n",
    "        \n",
    "if __name__ == '__main__':\n",
    "    main()"
   ]
  },
  {
   "cell_type": "code",
   "execution_count": 116,
   "metadata": {},
   "outputs": [
    {
     "name": "stdout",
     "output_type": "stream",
     "text": [
      " | | \n",
      "-+-+-\n",
      " | | \n",
      "-+-+-\n",
      " | | \n",
      "turn to x, input the board: TL\n",
      "x| | \n",
      "-+-+-\n",
      " | | \n",
      "-+-+-\n",
      " | | \n",
      "turn to o, input the board: MM\n",
      "x| | \n",
      "-+-+-\n",
      " |o| \n",
      "-+-+-\n",
      " | | \n",
      "turn to x, input the board: TM\n",
      "x|x| \n",
      "-+-+-\n",
      " |o| \n",
      "-+-+-\n",
      " | | \n",
      "turn to o, input the board: TR\n",
      "x|x|o\n",
      "-+-+-\n",
      " |o| \n",
      "-+-+-\n",
      " | | \n",
      "turn to x, input the board: ML\n",
      "x|x|o\n",
      "-+-+-\n",
      "x|o| \n",
      "-+-+-\n",
      " | | \n",
      "turn to o, input the board: BL\n",
      "x|x|o\n",
      "-+-+-\n",
      "x|o| \n",
      "-+-+-\n",
      "o| | \n",
      "turn to x, input the board: MR\n",
      "x|x|o\n",
      "-+-+-\n",
      "x|o|x\n",
      "-+-+-\n",
      "o| | \n",
      "turn to o, input the board: BM\n",
      "x|x|o\n",
      "-+-+-\n",
      "x|o|x\n",
      "-+-+-\n",
      "o|o| \n",
      "turn to x, input the board: BR\n",
      "x|x|o\n",
      "-+-+-\n",
      "x|o|x\n",
      "-+-+-\n",
      "o|o|x\n",
      "try again?(Y|N)Y\n",
      " | | \n",
      "-+-+-\n",
      " | | \n",
      "-+-+-\n",
      " | | \n",
      "turn to x, input the board: TL\n",
      "x| | \n",
      "-+-+-\n",
      " | | \n",
      "-+-+-\n",
      " | | \n",
      "turn to o, input the board: MM\n",
      "x| | \n",
      "-+-+-\n",
      " |o| \n",
      "-+-+-\n",
      " | | \n",
      "turn to x, input the board: TR\n",
      "x| |x\n",
      "-+-+-\n",
      " |o| \n",
      "-+-+-\n",
      " | | \n",
      "turn to o, input the board: TM\n",
      "x|o|x\n",
      "-+-+-\n",
      " |o| \n",
      "-+-+-\n",
      " | | \n",
      "turn to x, input the board: BM\n",
      "x|o|x\n",
      "-+-+-\n",
      " |o| \n",
      "-+-+-\n",
      " |x| \n",
      "turn to o, input the board: MR\n",
      "x|o|x\n",
      "-+-+-\n",
      " |o|o\n",
      "-+-+-\n",
      " |x| \n",
      "turn to x, input the board: ML\n",
      "x|o|x\n",
      "-+-+-\n",
      "x|o|o\n",
      "-+-+-\n",
      " |x| \n",
      "turn to o, input the board: BL\n",
      "x|o|x\n",
      "-+-+-\n",
      "x|o|o\n",
      "-+-+-\n",
      "o|x| \n",
      "turn to x, input the board: BR\n",
      "x|o|x\n",
      "-+-+-\n",
      "x|o|o\n",
      "-+-+-\n",
      "o|x|x\n",
      "try again?(Y|N)N\n"
     ]
    }
   ],
   "source": [
    "import os\n",
    "\n",
    "def print_board(board):\n",
    "    print(board['TL'] + '|' + board['TM'] + '|' + board['TR'])\n",
    "    print('-+-+-')\n",
    "    print(board['ML'] + '|' + board['MM'] + '|' + board['MR'])\n",
    "    print('-+-+-')\n",
    "    print(board['BL'] + '|' + board['BM'] + '|' + board['BR'])\n",
    "    \n",
    "def main():\n",
    "    init_board = {\n",
    "        'TL': ' ','TM': ' ','TR': ' ',\n",
    "        'ML': ' ','MM': ' ','MR': ' ',\n",
    "        'BL': ' ','BM': ' ','BR': ' ',\n",
    "    }\n",
    "    begin = True\n",
    "    while begin:\n",
    "        cur_board = init_board.copy()\n",
    "        begin = False\n",
    "        turn = 'x'\n",
    "        counter = 0\n",
    "        os.system('clear')\n",
    "        print_board(cur_board)\n",
    "        while counter < 9:\n",
    "            move = input('turn to %s, input the board: ' % turn)\n",
    "            if cur_board[move] == ' ':\n",
    "                counter += 1\n",
    "                cur_board[move] = turn\n",
    "                if turn == 'x':\n",
    "                    turn = 'o'\n",
    "                else:\n",
    "                    turn = 'x'\n",
    "            os.system('clear')\n",
    "            print_board(cur_board)\n",
    "        choice = input('try again?(Y|N)')\n",
    "        begin = choice == 'Y'\n",
    "        \n",
    "if __name__ == '__main__':\n",
    "    main()"
   ]
  },
  {
   "cell_type": "code",
   "execution_count": null,
   "metadata": {},
   "outputs": [],
   "source": []
  }
 ],
 "metadata": {
  "celltoolbar": "Raw Cell Format",
  "kernelspec": {
   "display_name": "Python 3",
   "language": "python",
   "name": "python3"
  }
 },
 "nbformat": 4,
 "nbformat_minor": 2
}
