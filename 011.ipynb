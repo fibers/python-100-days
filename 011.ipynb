{
 "cells": [
  {
   "cell_type": "code",
   "execution_count": 5,
   "metadata": {},
   "outputs": [
    {
     "name": "stdout",
     "output_type": "stream",
     "text": [
      "致橡树\n",
      "\n",
      "作者：舒婷\n",
      "\n",
      "我如果爱你——\n",
      "绝不像攀援的凌霄花，\n",
      "借你的高枝炫耀自己；\n",
      "我如果爱你——\n",
      "绝不学痴情的鸟儿，\n",
      "为绿荫重复单调的歌曲；\n",
      "也不止像泉源，\n",
      "常年送来清凉的慰藉；\n",
      "也不止像险峰，\n",
      "增加你的高度，衬托你的威仪。\n",
      "甚至日光，\n",
      "甚至春雨。\n",
      "\n",
      "不，这些都还不够！\n",
      "我必须是你近旁的一株木棉，\n",
      "作为树的形象和你站在一起。\n",
      "根，紧握在地下；\n",
      "叶，相触在云里。\n",
      "每一阵风过，\n",
      "我们都互相致意，\n",
      "但没有人，\n",
      "听懂我们的言语。\n",
      "你有你的铜枝铁干，\n",
      "像刀，像剑，也像戟；\n",
      "我有我红硕的花朵，\n",
      "像沉重的叹息，\n",
      "又像英勇的火炬。\n",
      "\n",
      "我们分担寒潮、风雷、霹雳；\n",
      "我们共享雾霭、流岚、虹霓。\n",
      "仿佛永远分离，\n",
      "却又终身相依。\n",
      "这才是伟大的爱情，\n",
      "坚贞就在这里：\n",
      "爱——\n",
      "不仅爱你伟岸的身躯，\n",
      "也爱你坚持的位置，\n",
      "足下的土地。\n"
     ]
    }
   ],
   "source": [
    "def main():\n",
    "    f = None\n",
    "    try:\n",
    "        f = open('致橡树.txt', 'r', encoding='utf-8')\n",
    "        print(f.read())\n",
    "    except FileNotFoundError:\n",
    "        print('No file')\n",
    "    except UnicodeDecodeError:\n",
    "        print('Wrong  code')\n",
    "    finally:\n",
    "        if f:\n",
    "            f.close()\n",
    "            \n",
    "if __name__ == '__main__':\n",
    "    main()"
   ]
  },
  {
   "cell_type": "code",
   "execution_count": 4,
   "metadata": {},
   "outputs": [
    {
     "name": "stdout",
     "output_type": "stream",
     "text": [
      "致橡树\n",
      "\n",
      "作者：舒婷\n",
      "\n",
      "我如果爱你——\n",
      "绝不像攀援的凌霄花，\n",
      "借你的高枝炫耀自己；\n",
      "我如果爱你——\n",
      "绝不学痴情的鸟儿，\n",
      "为绿荫重复单调的歌曲；\n",
      "也不止像泉源，\n",
      "常年送来清凉的慰藉；\n",
      "也不止像险峰，\n",
      "增加你的高度，衬托你的威仪。\n",
      "甚至日光，\n",
      "甚至春雨。\n",
      "\n",
      "不，这些都还不够！\n",
      "我必须是你近旁的一株木棉，\n",
      "作为树的形象和你站在一起。\n",
      "根，紧握在地下；\n",
      "叶，相触在云里。\n",
      "每一阵风过，\n",
      "我们都互相致意，\n",
      "但没有人，\n",
      "听懂我们的言语。\n",
      "你有你的铜枝铁干，\n",
      "像刀，像剑，也像戟；\n",
      "我有我红硕的花朵，\n",
      "像沉重的叹息，\n",
      "又像英勇的火炬。\n",
      "\n",
      "我们分担寒潮、风雷、霹雳；\n",
      "我们共享雾霭、流岚、虹霓。\n",
      "仿佛永远分离，\n",
      "却又终身相依。\n",
      "这才是伟大的爱情，\n",
      "坚贞就在这里：\n",
      "爱——\n",
      "不仅爱你伟岸的身躯，\n",
      "也爱你坚持的位置，\n",
      "足下的土地。\n"
     ]
    }
   ],
   "source": [
    "def main():\n",
    "    try:\n",
    "        with open('致橡树.txt', 'r', encoding='utf-8') as f:\n",
    "            print(f.read())\n",
    "    except FileNotFoundError:\n",
    "        print('No file')\n",
    "    except UnicodeDecodeError:\n",
    "        print('Wrong code')\n",
    "        \n",
    "if __name__ == '__main__':\n",
    "    main()"
   ]
  },
  {
   "cell_type": "code",
   "execution_count": 6,
   "metadata": {},
   "outputs": [
    {
     "name": "stdout",
     "output_type": "stream",
     "text": [
      "致橡树\n",
      "\n",
      "作者：舒婷\n",
      "\n",
      "我如果爱你——\n",
      "绝不像攀援的凌霄花，\n",
      "借你的高枝炫耀自己；\n",
      "我如果爱你——\n",
      "绝不学痴情的鸟儿，\n",
      "为绿荫重复单调的歌曲；\n",
      "也不止像泉源，\n",
      "常年送来清凉的慰藉；\n",
      "也不止像险峰，\n",
      "增加你的高度，衬托你的威仪。\n",
      "甚至日光，\n",
      "甚至春雨。\n",
      "\n",
      "不，这些都还不够！\n",
      "我必须是你近旁的一株木棉，\n",
      "作为树的形象和你站在一起。\n",
      "根，紧握在地下；\n",
      "叶，相触在云里。\n",
      "每一阵风过，\n",
      "我们都互相致意，\n",
      "但没有人，\n",
      "听懂我们的言语。\n",
      "你有你的铜枝铁干，\n",
      "像刀，像剑，也像戟；\n",
      "我有我红硕的花朵，\n",
      "像沉重的叹息，\n",
      "又像英勇的火炬。\n",
      "\n",
      "我们分担寒潮、风雷、霹雳；\n",
      "我们共享雾霭、流岚、虹霓。\n",
      "仿佛永远分离，\n",
      "却又终身相依。\n",
      "这才是伟大的爱情，\n",
      "坚贞就在这里：\n",
      "爱——\n",
      "不仅爱你伟岸的身躯，\n",
      "也爱你坚持的位置，\n",
      "足下的土地。\n"
     ]
    }
   ],
   "source": [
    "import time\n",
    "\n",
    "def main():\n",
    "    with open('致橡树.txt', mode='r') as f:\n",
    "        for line in f:\n",
    "            print(line, end='')\n",
    "            time.sleep(0.5)\n",
    "    print()\n",
    "    \n",
    "if __name__ == '__main__':\n",
    "    main()"
   ]
  },
  {
   "cell_type": "code",
   "execution_count": 8,
   "metadata": {},
   "outputs": [
    {
     "name": "stdout",
     "output_type": "stream",
     "text": [
      "['致橡树\\n', '\\n', '作者：舒婷\\n', '\\n', '我如果爱你——\\n', '绝不像攀援的凌霄花，\\n', '借你的高枝炫耀自己；\\n', '我如果爱你——\\n', '绝不学痴情的鸟儿，\\n', '为绿荫重复单调的歌曲；\\n', '也不止像泉源，\\n', '常年送来清凉的慰藉；\\n', '也不止像险峰，\\n', '增加你的高度，衬托你的威仪。\\n', '甚至日光，\\n', '甚至春雨。\\n', '\\n', '不，这些都还不够！\\n', '我必须是你近旁的一株木棉，\\n', '作为树的形象和你站在一起。\\n', '根，紧握在地下；\\n', '叶，相触在云里。\\n', '每一阵风过，\\n', '我们都互相致意，\\n', '但没有人，\\n', '听懂我们的言语。\\n', '你有你的铜枝铁干，\\n', '像刀，像剑，也像戟；\\n', '我有我红硕的花朵，\\n', '像沉重的叹息，\\n', '又像英勇的火炬。\\n', '\\n', '我们分担寒潮、风雷、霹雳；\\n', '我们共享雾霭、流岚、虹霓。\\n', '仿佛永远分离，\\n', '却又终身相依。\\n', '这才是伟大的爱情，\\n', '坚贞就在这里：\\n', '爱——\\n', '不仅爱你伟岸的身躯，\\n', '也爱你坚持的位置，\\n', '足下的土地。']\n"
     ]
    }
   ],
   "source": [
    "import time\n",
    "\n",
    "def main():\n",
    "    with open('致橡树.txt') as f:\n",
    "        lines = f.readlines()\n",
    "    print(lines)\n",
    "    \n",
    "if __name__ == '__main__':\n",
    "    main()"
   ]
  },
  {
   "cell_type": "code",
   "execution_count": 11,
   "metadata": {},
   "outputs": [],
   "source": [
    "from math import sqrt\n",
    "\n",
    "def is_prime(n):\n",
    "    assert n > 0\n",
    "    for f in range(2, int(sqrt(n)+1)):\n",
    "        if n % f == 0:\n",
    "            return False\n",
    "    return True if n != 1 else False\n",
    "\n",
    "def main():\n",
    "    filenames = ('a.txt', 'b.txt', 'c.txt')\n",
    "    fs_list = []\n",
    "    try:\n",
    "        for filename in filenames:\n",
    "            fs_list.append(open(filename, 'w', encoding='utf-8'))\n",
    "        for number in range(1, 10000):\n",
    "            if is_prime(number):\n",
    "                if number < 100:\n",
    "                    fs_list[0].write(str(number) + '\\n')\n",
    "                elif number < 1000:\n",
    "                    fs_list[1].write(str(number) + '\\n')\n",
    "                else:\n",
    "                    fs_list[2].write(str(number) + '\\n')\n",
    "                    \n",
    "    except IOError as ex:\n",
    "        print('write error!')\n",
    "        \n",
    "    finally:\n",
    "        for fs in fs_list:\n",
    "            fs.close()\n",
    "            \n",
    "if __name__ == '__main__':\n",
    "    main()"
   ]
  },
  {
   "cell_type": "code",
   "execution_count": 19,
   "metadata": {},
   "outputs": [
    {
     "name": "stdout",
     "output_type": "stream",
     "text": [
      "<class 'bytes'>\n",
      "The End\n"
     ]
    }
   ],
   "source": [
    "def main():\n",
    "    try:\n",
    "        with open('1.png', 'rb') as f1:\n",
    "            data = f1.read()\n",
    "            print(type(data))\n",
    "        with open('2.jpg', 'wb') as f2:\n",
    "            f2.write(data)\n",
    "    except FileNotFoundError as e:\n",
    "        print('no file!')\n",
    "    except IOError as e:\n",
    "        print('error!')\n",
    "    print('The End')\n",
    "    \n",
    "if __name__ == '__main__':\n",
    "    main()"
   ]
  },
  {
   "cell_type": "code",
   "execution_count": 23,
   "metadata": {},
   "outputs": [
    {
     "name": "stdout",
     "output_type": "stream",
     "text": [
      "Save done\n"
     ]
    }
   ],
   "source": [
    "import json\n",
    "\n",
    "def main():\n",
    "    mydict = {\n",
    "        'name': '骆昊',\n",
    "        'age': 38,\n",
    "        'qq': 957658,\n",
    "        'friends': ['王大锤', '白元芳'],\n",
    "        'cars': [\n",
    "            {'brand': 'BYD', 'max_speed': 180},\n",
    "            {'brand': 'Audi', 'max_speed': 280},\n",
    "            {'brand': 'Benz', 'max_speed': 320}\n",
    "        ]\n",
    "    }\n",
    "    try:\n",
    "        with open('1.json', 'w', encoding='utf-8') as f:\n",
    "            json.dump(mydict, f, ensure_ascii=False)\n",
    "    except IOError as e:\n",
    "        print(e)\n",
    "    print('Save done')\n",
    "        \n",
    "if __name__ == '__main__':\n",
    "    main()"
   ]
  },
  {
   "cell_type": "code",
   "execution_count": 26,
   "metadata": {},
   "outputs": [
    {
     "ename": "AttributeError",
     "evalue": "'Response' object has no attribute 'txt'",
     "output_type": "error",
     "traceback": [
      "\u001b[0;31m---------------------------------------------------------------------------\u001b[0m",
      "\u001b[0;31mAttributeError\u001b[0m                            Traceback (most recent call last)",
      "\u001b[0;32m<ipython-input-26-d0f15d569d31>\u001b[0m in \u001b[0;36m<module>\u001b[0;34m\u001b[0m\n\u001b[1;32m      9\u001b[0m \u001b[0;34m\u001b[0m\u001b[0m\n\u001b[1;32m     10\u001b[0m \u001b[0;32mif\u001b[0m \u001b[0m__name__\u001b[0m \u001b[0;34m==\u001b[0m \u001b[0;34m'__main__'\u001b[0m\u001b[0;34m:\u001b[0m\u001b[0;34m\u001b[0m\u001b[0;34m\u001b[0m\u001b[0m\n\u001b[0;32m---> 11\u001b[0;31m     \u001b[0mmain\u001b[0m\u001b[0;34m(\u001b[0m\u001b[0;34m)\u001b[0m\u001b[0;34m\u001b[0m\u001b[0;34m\u001b[0m\u001b[0m\n\u001b[0m",
      "\u001b[0;32m<ipython-input-26-d0f15d569d31>\u001b[0m in \u001b[0;36mmain\u001b[0;34m()\u001b[0m\n\u001b[1;32m      4\u001b[0m \u001b[0;32mdef\u001b[0m \u001b[0mmain\u001b[0m\u001b[0;34m(\u001b[0m\u001b[0;34m)\u001b[0m\u001b[0;34m:\u001b[0m\u001b[0;34m\u001b[0m\u001b[0;34m\u001b[0m\u001b[0m\n\u001b[1;32m      5\u001b[0m     \u001b[0mresp\u001b[0m \u001b[0;34m=\u001b[0m \u001b[0mrequests\u001b[0m\u001b[0;34m.\u001b[0m\u001b[0mget\u001b[0m\u001b[0;34m(\u001b[0m\u001b[0;34m'http://api.tianapi.com/guonei/?key=APIKey&num=10'\u001b[0m\u001b[0;34m)\u001b[0m\u001b[0;34m\u001b[0m\u001b[0;34m\u001b[0m\u001b[0m\n\u001b[0;32m----> 6\u001b[0;31m     \u001b[0mdata_model\u001b[0m \u001b[0;34m=\u001b[0m \u001b[0mjson\u001b[0m\u001b[0;34m.\u001b[0m\u001b[0mloads\u001b[0m\u001b[0;34m(\u001b[0m\u001b[0mresp\u001b[0m\u001b[0;34m.\u001b[0m\u001b[0mtxt\u001b[0m\u001b[0;34m)\u001b[0m\u001b[0;34m\u001b[0m\u001b[0;34m\u001b[0m\u001b[0m\n\u001b[0m\u001b[1;32m      7\u001b[0m     \u001b[0;32mfor\u001b[0m \u001b[0mnews\u001b[0m \u001b[0;32min\u001b[0m \u001b[0mdata_model\u001b[0m\u001b[0;34m[\u001b[0m\u001b[0;34m'newlist'\u001b[0m\u001b[0;34m]\u001b[0m\u001b[0;34m:\u001b[0m\u001b[0;34m\u001b[0m\u001b[0;34m\u001b[0m\u001b[0m\n\u001b[1;32m      8\u001b[0m         \u001b[0mprint\u001b[0m\u001b[0;34m(\u001b[0m\u001b[0mnew\u001b[0m\u001b[0;34m[\u001b[0m\u001b[0;34m'title'\u001b[0m\u001b[0;34m]\u001b[0m\u001b[0;34m)\u001b[0m\u001b[0;34m\u001b[0m\u001b[0;34m\u001b[0m\u001b[0m\n",
      "\u001b[0;31mAttributeError\u001b[0m: 'Response' object has no attribute 'txt'"
     ]
    }
   ],
   "source": [
    "import requests\n",
    "import json\n",
    "\n",
    "def main():\n",
    "    resp = requests.get('http://api.tianapi.com/guonei/?key=APIKey&num=10')\n",
    "    data_model = json.loads(resp.txt)\n",
    "    for news in data_model['newlist']:\n",
    "        print(new['title'])\n",
    "        \n",
    "if __name__ == '__main__':\n",
    "    main()"
   ]
  },
  {
   "cell_type": "code",
   "execution_count": null,
   "metadata": {},
   "outputs": [],
   "source": []
  }
 ],
 "metadata": {
  "kernelspec": {
   "display_name": "Python 3",
   "language": "python",
   "name": "python3"
  },
  "language_info": {
   "codemirror_mode": {
    "name": "ipython",
    "version": 3
   },
   "file_extension": ".py",
   "mimetype": "text/x-python",
   "name": "python",
   "nbconvert_exporter": "python",
   "pygments_lexer": "ipython3",
   "version": "3.7.3"
  }
 },
 "nbformat": 4,
 "nbformat_minor": 2
}
