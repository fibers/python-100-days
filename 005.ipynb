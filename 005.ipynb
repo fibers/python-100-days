{
 "cells": [
  {
   "cell_type": "code",
   "execution_count": 3,
   "metadata": {},
   "outputs": [
    {
     "name": "stdout",
     "output_type": "stream",
     "text": [
      "yes: 153\n",
      "yes: 370\n",
      "yes: 371\n",
      "yes: 407\n"
     ]
    }
   ],
   "source": [
    "import math\n",
    "for i in range(1, 10):\n",
    "    for j in range(10):\n",
    "        for k in range(10):\n",
    "            if (i * 100 + j * 10 + k) == (math.pow(i, 3) + math.pow(j, 3) + math.pow(k, 3)):\n",
    "                print('yes: %d' % (i * 100 + j * 10 + k))"
   ]
  },
  {
   "cell_type": "code",
   "execution_count": 5,
   "metadata": {},
   "outputs": [
    {
     "name": "stdout",
     "output_type": "stream",
     "text": [
      "6\n",
      "28\n",
      "496\n",
      "8128\n"
     ]
    }
   ],
   "source": [
    "for i in range(1, 10001):\n",
    "    s = 0\n",
    "    for j in range(1, i):\n",
    "        if i % j == 0:\n",
    "            s = s + j\n",
    "    if i == s:\n",
    "        print(i)"
   ]
  },
  {
   "cell_type": "code",
   "execution_count": 9,
   "metadata": {},
   "outputs": [
    {
     "name": "stdout",
     "output_type": "stream",
     "text": [
      "cock: 0 hen: 25 chicken: 75\n",
      "cock: 4 hen: 18 chicken: 78\n",
      "cock: 8 hen: 11 chicken: 81\n",
      "cock: 12 hen: 4 chicken: 84\n"
     ]
    }
   ],
   "source": [
    "for x in range (20):\n",
    "    for y in range(34):\n",
    "        z = 100 - x - y\n",
    "        if x * 5 + y * 3 + z / 3 == 100:\n",
    "            print('cock:', x, 'hen:', y, 'chicken:',z)"
   ]
  }
 ],
 "metadata": {
  "kernelspec": {
   "display_name": "Python 3",
   "language": "python",
   "name": "python3"
  },
  "language_info": {
   "codemirror_mode": {
    "name": "ipython",
    "version": 3
   },
   "file_extension": ".py",
   "mimetype": "text/x-python",
   "name": "python",
   "nbconvert_exporter": "python",
   "pygments_lexer": "ipython3",
   "version": "3.7.1"
  }
 },
 "nbformat": 4,
 "nbformat_minor": 2
}
